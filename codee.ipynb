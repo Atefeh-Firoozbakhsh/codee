{
 "cells": [
  {
   "cell_type": "code",
   "execution_count": 1,
   "id": "032b210f",
   "metadata": {},
   "outputs": [
    {
     "name": "stdout",
     "output_type": "stream",
     "text": [
      "please enter your code: \n",
      "your code is: 1\n",
      "your code is wrong!\n",
      "please enter your code again: 123\n",
      "That is good, your code is correct\n"
     ]
    }
   ],
   "source": [
    "print(\"please enter your code: \")\n",
    "code = input(\"your code is: \")\n",
    "while code !=\"123\":\n",
    "    print(\"your code is wrong!\")\n",
    "    code = input(\"please enter your code again: \")\n",
    "print(\"That is good, your code is correct\")"
   ]
  },
  {
   "cell_type": "code",
   "execution_count": null,
   "id": "5efc2faf",
   "metadata": {},
   "outputs": [],
   "source": []
  }
 ],
 "metadata": {
  "kernelspec": {
   "display_name": "Python 3",
   "language": "python",
   "name": "python3"
  },
  "language_info": {
   "codemirror_mode": {
    "name": "ipython",
    "version": 3
   },
   "file_extension": ".py",
   "mimetype": "text/x-python",
   "name": "python",
   "nbconvert_exporter": "python",
   "pygments_lexer": "ipython3",
   "version": "3.8.8"
  }
 },
 "nbformat": 4,
 "nbformat_minor": 5
}
